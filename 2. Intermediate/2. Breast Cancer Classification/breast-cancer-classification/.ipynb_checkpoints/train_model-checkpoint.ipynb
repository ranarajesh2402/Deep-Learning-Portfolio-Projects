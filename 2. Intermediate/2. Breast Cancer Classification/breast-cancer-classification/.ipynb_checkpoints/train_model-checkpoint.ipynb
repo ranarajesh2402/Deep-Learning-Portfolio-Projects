{
 "cells": [
  {
   "cell_type": "code",
   "execution_count": 1,
   "id": "bab57786",
   "metadata": {},
   "outputs": [
    {
     "data": {
      "text/plain": [
       "'\\n    Similar Code is available here- https://pyimagesearch.com/2019/02/18/breast-cancer-classification-with-keras-and-deep-learning/\\n    DO CHECK THE DATASET EXTRACTION PROCESS\\n'"
      ]
     },
     "execution_count": 1,
     "metadata": {},
     "output_type": "execute_result"
    }
   ],
   "source": [
    "import os\n",
    "import numpy as np\n",
    "import matplotlib.pyplot as plt\n",
    "from imutils import paths\n",
    "from cancernet import config\n",
    "from cancernet.cancernet import CancerNet\n",
    "from sklearn.metrics import confusion_matrix\n",
    "from sklearn.metrics import classification_report\n",
    "from tensorflow.keras.utils import to_categorical\n",
    "from tensorflow.keras.optimizers import Adagrad\n",
    "from tensorflow.keras.callbacks import LearningRateScheduler\n",
    "from tensorflow.keras.preprocessing.image import ImageDataGenerator\n",
    "import matplotlib\n",
    "matplotlib.use(\"Agg\")\n",
    "\"\"\"\n",
    "    Similar Code is available here- https://pyimagesearch.com/2019/02/18/breast-cancer-classification-with-keras-and-deep-learning/\n",
    "    DO CHECK THE DATASET EXTRACTION PROCESS\n",
    "\"\"\""
   ]
  },
  {
   "cell_type": "code",
   "execution_count": 2,
   "id": "1750df9f",
   "metadata": {},
   "outputs": [],
   "source": [
    "NUM_EPOCHS = 10   #Use NUM_EPOCHS = 40 for better accuracy\n",
    "INIT_LR = 1e-2\n",
    "BS = 32"
   ]
  },
  {
   "cell_type": "code",
   "execution_count": 3,
   "id": "a89356af",
   "metadata": {},
   "outputs": [],
   "source": [
    "trainPaths = list(paths.list_images(config.TRAIN_PATH))\n",
    "lenTrain = len(trainPaths)\n",
    "lenVal = len(list(paths.list_images(config.VAL_PATH)))\n",
    "lenTest = len(list(paths.list_images(config.TEST_PATH)))\n",
    "\n",
    "trainLabels = [int(p.split(os.path.sep)[-2]) for p in trainPaths]\n",
    "\n",
    "trainLabels = to_categorical(trainLabels)\n",
    "classTotals = trainLabels.sum(axis=0)\n",
    "\n",
    "#classWeight = classTotals.max()/classTotals\n",
    "classWeight = dict()\n",
    "# loop over all classes and calculate the class weight\n",
    "for i in range(0, len(classTotals)):\n",
    "    classWeight[i] = classTotals.max() / classTotals[i]"
   ]
  },
  {
   "cell_type": "code",
   "execution_count": 4,
   "id": "c9bd2496",
   "metadata": {},
   "outputs": [
    {
     "name": "stdout",
     "output_type": "stream",
     "text": [
      "Found 199818 images belonging to 2 classes.\n",
      "Found 22201 images belonging to 2 classes.\n",
      "Found 55505 images belonging to 2 classes.\n"
     ]
    }
   ],
   "source": [
    "\n",
    "trainAug = ImageDataGenerator(\n",
    "    rescale=1/255.0,\n",
    "    rotation_range=20,\n",
    "    zoom_range=0.05,\n",
    "    width_shift_range=0.1,\n",
    "    height_shift_range=0.1,\n",
    "    shear_range=0.05,\n",
    "    horizontal_flip=True,\n",
    "    vertical_flip=True,\n",
    "    fill_mode=\"nearest\")\n",
    "\n",
    "valAug = ImageDataGenerator(rescale=1 / 255.0)\n",
    "\n",
    "trainGen = trainAug.flow_from_directory(\n",
    "    config.TRAIN_PATH,\n",
    "    class_mode=\"categorical\",\n",
    "    target_size=(48, 48),\n",
    "    color_mode=\"rgb\",\n",
    "    shuffle=True,\n",
    "    batch_size=BS)\n",
    "valGen = valAug.flow_from_directory(\n",
    "    config.VAL_PATH,\n",
    "    class_mode=\"categorical\",\n",
    "    target_size=(48, 48),\n",
    "    color_mode=\"rgb\",\n",
    "    shuffle=False,\n",
    "    batch_size=BS)\n",
    "testGen = valAug.flow_from_directory(\n",
    "    config.TEST_PATH,\n",
    "    class_mode=\"categorical\",\n",
    "    target_size=(48, 48),\n",
    "    color_mode=\"rgb\",\n",
    "    shuffle=False,\n",
    "    batch_size=BS)"
   ]
  },
  {
   "cell_type": "code",
   "execution_count": 5,
   "id": "f4bba913",
   "metadata": {},
   "outputs": [],
   "source": [
    "model = CancerNet.build(width=48, height=48, depth=3, classes=2)\n",
    "opt = Adagrad(learning_rate=INIT_LR, decay=INIT_LR/NUM_EPOCHS)\n",
    "model.compile(loss=\"binary_crossentropy\", optimizer=opt, metrics=[\"accuracy\"])"
   ]
  },
  {
   "cell_type": "code",
   "execution_count": 6,
   "id": "1875e990",
   "metadata": {},
   "outputs": [
    {
     "name": "stdout",
     "output_type": "stream",
     "text": [
      "Epoch 1/10\n",
      "6244/6244 [==============================] - 362s 57ms/step - loss: 0.6281 - accuracy: 0.8133 - val_loss: 0.5173 - val_accuracy: 0.7904\n",
      "Epoch 2/10\n",
      "6244/6244 [==============================] - 339s 54ms/step - loss: 0.5897 - accuracy: 0.8239 - val_loss: 0.5122 - val_accuracy: 0.7919\n",
      "Epoch 3/10\n",
      "6244/6244 [==============================] - 332s 53ms/step - loss: 0.5827 - accuracy: 0.8263 - val_loss: 0.4916 - val_accuracy: 0.8023\n",
      "Epoch 4/10\n",
      "6244/6244 [==============================] - 349s 56ms/step - loss: 0.5824 - accuracy: 0.8253 - val_loss: 0.4988 - val_accuracy: 0.7964\n",
      "Epoch 5/10\n",
      "6244/6244 [==============================] - 360s 58ms/step - loss: 0.5792 - accuracy: 0.8263 - val_loss: 0.4967 - val_accuracy: 0.7972\n",
      "Epoch 6/10\n",
      "6244/6244 [==============================] - 331s 53ms/step - loss: 0.5789 - accuracy: 0.8273 - val_loss: 0.4907 - val_accuracy: 0.7985\n",
      "Epoch 7/10\n",
      "6244/6244 [==============================] - 347s 56ms/step - loss: 0.5781 - accuracy: 0.8264 - val_loss: 0.4961 - val_accuracy: 0.7974\n",
      "Epoch 8/10\n",
      "6244/6244 [==============================] - 346s 55ms/step - loss: 0.5777 - accuracy: 0.8273 - val_loss: 0.4903 - val_accuracy: 0.7988\n",
      "Epoch 9/10\n",
      "6244/6244 [==============================] - 325s 52ms/step - loss: 0.5780 - accuracy: 0.8272 - val_loss: 0.4866 - val_accuracy: 0.7994\n",
      "Epoch 10/10\n",
      "6244/6244 [==============================] - 324s 52ms/step - loss: 0.5759 - accuracy: 0.8276 - val_loss: 0.4933 - val_accuracy: 0.7969\n"
     ]
    }
   ],
   "source": [
    "M = model.fit(\n",
    "    trainGen,\n",
    "    steps_per_epoch=lenTrain//BS,\n",
    "    validation_data=valGen,\n",
    "    validation_steps=lenVal//BS,\n",
    "    class_weight=classWeight,\n",
    "    epochs=NUM_EPOCHS)"
   ]
  },
  {
   "cell_type": "code",
   "execution_count": 7,
   "id": "d05918e5",
   "metadata": {},
   "outputs": [],
   "source": [
    "model.save('BreastCancer_model.h5', M)"
   ]
  },
  {
   "cell_type": "code",
   "execution_count": 8,
   "id": "50bf760a",
   "metadata": {},
   "outputs": [
    {
     "name": "stdout",
     "output_type": "stream",
     "text": [
      "Now evaluating the model\n",
      "1735/1735 [==============================] - 56s 32ms/step\n",
      "              precision    recall  f1-score   support\n",
      "\n",
      "           0       0.94      0.77      0.84     39736\n",
      "           1       0.60      0.87      0.71     15769\n",
      "\n",
      "    accuracy                           0.80     55505\n",
      "   macro avg       0.77      0.82      0.77     55505\n",
      "weighted avg       0.84      0.80      0.80     55505\n",
      "\n",
      "[[30430  9306]\n",
      " [ 2067 13702]]\n",
      "Accuracy: 0.7950995405819296\n",
      "Specificity: 0.8689200329760923\n",
      "Sensitivity: 0.7658043084356755\n"
     ]
    }
   ],
   "source": [
    "print(\"Now evaluating the model\")\n",
    "testGen.reset()\n",
    "pred_indices = model.predict(testGen, steps=(lenTest//BS)+1)\n",
    "\n",
    "pred_indices = np.argmax(pred_indices, axis=1)\n",
    "\n",
    "print(classification_report(testGen.classes, pred_indices,\n",
    "                            target_names=testGen.class_indices.keys()))\n",
    "\n",
    "cm = confusion_matrix(testGen.classes, pred_indices)\n",
    "total = sum(sum(cm))\n",
    "accuracy = (cm[0, 0]+cm[1, 1])/total\n",
    "specificity = cm[1, 1]/(cm[1, 0]+cm[1, 1])\n",
    "sensitivity = cm[0, 0]/(cm[0, 0]+cm[0, 1])\n",
    "print(cm)\n",
    "print(f'Accuracy: {accuracy}')\n",
    "print(f'Specificity: {specificity}')\n",
    "print(f'Sensitivity: {sensitivity}')"
   ]
  },
  {
   "cell_type": "code",
   "execution_count": 9,
   "id": "6379f7ee",
   "metadata": {},
   "outputs": [],
   "source": [
    "N = NUM_EPOCHS\n",
    "plt.style.use(\"ggplot\")\n",
    "plt.figure()\n",
    "plt.plot(np.arange(0, N), M.history[\"loss\"], label=\"train_loss\")\n",
    "plt.plot(np.arange(0, N), M.history[\"val_loss\"], label=\"val_loss\")\n",
    "plt.plot(np.arange(0, N), M.history[\"accuracy\"], label=\"train_acc\")\n",
    "plt.plot(np.arange(0, N), M.history[\"val_accuracy\"], label=\"val_acc\")\n",
    "plt.title(\"Training Loss and Accuracy on the IDC Dataset\")\n",
    "plt.xlabel(\"Epoch No.\")\n",
    "plt.ylabel(\"Loss/Accuracy\")\n",
    "plt.legend(loc=\"lower left\")\n",
    "plt.savefig('plot.png')\n"
   ]
  },
  {
   "attachments": {
    "plot.png": {
     "image/png": "[encoded data removed]"
    }
   },
   "cell_type": "markdown",
   "id": "f45a2cb0",
   "metadata": {},
   "source": [
    "Output:\n",
    "![plot.png](attachment:plot.png)"
   ]
  }
 ],
 "metadata": {
  "kernelspec": {
   "display_name": "Python 3 (ipykernel)",
   "language": "python",
   "name": "python3"
  },
  "language_info": {
   "codemirror_mode": {
    "name": "ipython",
    "version": 3
   },
   "file_extension": ".py",
   "mimetype": "text/x-python",
   "name": "python",
   "nbconvert_exporter": "python",
   "pygments_lexer": "ipython3",
   "version": "3.8.8"
  }
 },
 "nbformat": 4,
 "nbformat_minor": 5
}
