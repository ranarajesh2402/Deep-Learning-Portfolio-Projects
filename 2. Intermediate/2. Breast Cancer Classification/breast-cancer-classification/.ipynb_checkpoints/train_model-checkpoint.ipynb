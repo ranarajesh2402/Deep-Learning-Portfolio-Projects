{
 "cells": [
  {
   "cell_type": "code",
   "execution_count": 1,
   "id": "bab57786",
   "metadata": {},
   "outputs": [
    {
     "data": {
      "text/plain": [
       "'\\n    Similar Code is available here- https://pyimagesearch.com/2019/02/18/breast-cancer-classification-with-keras-and-deep-learning/\\n    DO CHECK THE DATASET EXTRACTION PROCESS\\n'"
      ]
     },
     "execution_count": 1,
     "metadata": {},
     "output_type": "execute_result"
    }
   ],
   "source": [
    "import os\n",
    "import numpy as np\n",
    "import matplotlib.pyplot as plt\n",
    "from imutils import paths\n",
    "from cancernet import config\n",
    "from cancernet.cancernet import CancerNet\n",
    "from sklearn.metrics import confusion_matrix\n",
    "from sklearn.metrics import classification_report\n",
    "from tensorflow.keras.utils import to_categorical\n",
    "from tensorflow.keras.optimizers import Adagrad\n",
    "from tensorflow.keras.callbacks import LearningRateScheduler\n",
    "from tensorflow.keras.preprocessing.image import ImageDataGenerator\n",
    "import matplotlib\n",
    "matplotlib.use(\"Agg\")\n",
    "\"\"\"\n",
    "    Similar Code is available here- https://pyimagesearch.com/2019/02/18/breast-cancer-classification-with-keras-and-deep-learning/\n",
    "    DO CHECK THE DATASET EXTRACTION PROCESS\n",
    "\"\"\""
   ]
  },
  {
   "cell_type": "code",
   "execution_count": 2,
   "id": "1750df9f",
   "metadata": {},
   "outputs": [],
   "source": [
    "NUM_EPOCHS = 10   #Use NUM_EPOCHS = 40 for better accuracy\n",
    "INIT_LR = 1e-2\n",
    "BS = 32"
   ]
  },
  {
   "cell_type": "code",
   "execution_count": 3,
   "id": "a89356af",
   "metadata": {},
   "outputs": [],
   "source": [
    "trainPaths = list(paths.list_images(config.TRAIN_PATH))\n",
    "lenTrain = len(trainPaths)\n",
    "lenVal = len(list(paths.list_images(config.VAL_PATH)))\n",
    "lenTest = len(list(paths.list_images(config.TEST_PATH)))\n",
    "\n",
    "trainLabels = [int(p.split(os.path.sep)[-2]) for p in trainPaths]\n",
    "\n",
    "trainLabels = to_categorical(trainLabels)\n",
    "classTotals = trainLabels.sum(axis=0)\n",
    "\n",
    "#classWeight = classTotals.max()/classTotals\n",
    "classWeight = dict()\n",
    "# loop over all classes and calculate the class weight\n",
    "for i in range(0, len(classTotals)):\n",
    "    classWeight[i] = classTotals.max() / classTotals[i]"
   ]
  },
  {
   "cell_type": "code",
   "execution_count": 4,
   "id": "c9bd2496",
   "metadata": {},
   "outputs": [
    {
     "name": "stdout",
     "output_type": "stream",
     "text": [
      "Found 199818 images belonging to 2 classes.\n",
      "Found 22201 images belonging to 2 classes.\n",
      "Found 55505 images belonging to 2 classes.\n"
     ]
    }
   ],
   "source": [
    "\n",
    "trainAug = ImageDataGenerator(\n",
    "    rescale=1/255.0,\n",
    "    rotation_range=20,\n",
    "    zoom_range=0.05,\n",
    "    width_shift_range=0.1,\n",
    "    height_shift_range=0.1,\n",
    "    shear_range=0.05,\n",
    "    horizontal_flip=True,\n",
    "    vertical_flip=True,\n",
    "    fill_mode=\"nearest\")\n",
    "\n",
    "valAug = ImageDataGenerator(rescale=1 / 255.0)\n",
    "\n",
    "trainGen = trainAug.flow_from_directory(\n",
    "    config.TRAIN_PATH,\n",
    "    class_mode=\"categorical\",\n",
    "    target_size=(48, 48),\n",
    "    color_mode=\"rgb\",\n",
    "    shuffle=True,\n",
    "    batch_size=BS)\n",
    "valGen = valAug.flow_from_directory(\n",
    "    config.VAL_PATH,\n",
    "    class_mode=\"categorical\",\n",
    "    target_size=(48, 48),\n",
    "    color_mode=\"rgb\",\n",
    "    shuffle=False,\n",
    "    batch_size=BS)\n",
    "testGen = valAug.flow_from_directory(\n",
    "    config.TEST_PATH,\n",
    "    class_mode=\"categorical\",\n",
    "    target_size=(48, 48),\n",
    "    color_mode=\"rgb\",\n",
    "    shuffle=False,\n",
    "    batch_size=BS)"
   ]
  },
  {
   "cell_type": "code",
   "execution_count": 5,
   "id": "f4bba913",
   "metadata": {},
   "outputs": [],
   "source": [
    "model = CancerNet.build(width=48, height=48, depth=3, classes=2)\n",
    "opt = Adagrad(learning_rate=INIT_LR, decay=INIT_LR/NUM_EPOCHS)\n",
    "model.compile(loss=\"binary_crossentropy\", optimizer=opt, metrics=[\"accuracy\"])"
   ]
  },
  {
   "cell_type": "code",
   "execution_count": null,
   "id": "1875e990",
   "metadata": {},
   "outputs": [
    {
     "name": "stdout",
     "output_type": "stream",
     "text": [
      "Epoch 1/10\n",
      " 529/6244 [=>............................] - ETA: 4:50 - loss: 0.7394 - accuracy: 0.7853"
     ]
    }
   ],
   "source": [
    "M = model.fit(\n",
    "    trainGen,\n",
    "    steps_per_epoch=lenTrain//BS,\n",
    "    validation_data=valGen,\n",
    "    validation_steps=lenVal//BS,\n",
    "    class_weight=classWeight,\n",
    "    epochs=NUM_EPOCHS)"
   ]
  },
  {
   "cell_type": "code",
   "execution_count": null,
   "id": "d05918e5",
   "metadata": {},
   "outputs": [],
   "source": [
    "model.save('BreastCancer_model.h5', M)\n",
    "print(\"Now evaluating the model\")\n",
    "testGen.reset()\n",
    "pred_indices = model.predict(testGen, steps=(lenTest//BS)+1)\n",
    "\n",
    "pred_indices = np.argmax(pred_indices, axis=1)\n",
    "\n",
    "print(classification_report(testGen.classes, pred_indices,\n",
    "                            target_names=testGen.class_indices.keys()))\n",
    "\n",
    "cm = confusion_matrix(testGen.classes, pred_indices)\n",
    "total = sum(sum(cm))\n",
    "accuracy = (cm[0, 0]+cm[1, 1])/total\n",
    "specificity = cm[1, 1]/(cm[1, 0]+cm[1, 1])\n",
    "sensitivity = cm[0, 0]/(cm[0, 0]+cm[0, 1])\n",
    "print(cm)\n",
    "print(f'Accuracy: {accuracy}')\n",
    "print(f'Specificity: {specificity}')\n",
    "print(f'Sensitivity: {sensitivity}')\n"
   ]
  },
  {
   "cell_type": "code",
   "execution_count": null,
   "id": "6379f7ee",
   "metadata": {},
   "outputs": [],
   "source": [
    "N = NUM_EPOCHS\n",
    "plt.style.use(\"ggplot\")\n",
    "plt.figure()\n",
    "plt.plot(np.arange(0, N), M.history[\"loss\"], label=\"train_loss\")\n",
    "plt.plot(np.arange(0, N), M.history[\"val_loss\"], label=\"val_loss\")\n",
    "plt.plot(np.arange(0, N), M.history[\"accuracy\"], label=\"train_acc\")\n",
    "plt.plot(np.arange(0, N), M.history[\"val_accuracy\"], label=\"val_acc\")\n",
    "plt.title(\"Training Loss and Accuracy on the IDC Dataset\")\n",
    "plt.xlabel(\"Epoch No.\")\n",
    "plt.ylabel(\"Loss/Accuracy\")\n",
    "plt.legend(loc=\"lower left\")\n",
    "plt.savefig('plot.png')\n"
   ]
  }
 ],
 "metadata": {
  "kernelspec": {
   "display_name": "Python 3 (ipykernel)",
   "language": "python",
   "name": "python3"
  },
  "language_info": {
   "codemirror_mode": {
    "name": "ipython",
    "version": 3
   },
   "file_extension": ".py",
   "mimetype": "text/x-python",
   "name": "python",
   "nbconvert_exporter": "python",
   "pygments_lexer": "ipython3",
   "version": "3.8.8"
  }
 },
 "nbformat": 4,
 "nbformat_minor": 5
}
